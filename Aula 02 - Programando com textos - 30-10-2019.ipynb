{
 "cells": [
  {
   "cell_type": "markdown",
   "metadata": {
    "slideshow": {
     "slide_type": "slide"
    }
   },
   "source": [
    "# Aula 02 - Programando com textos\n",
    "\n",
    "\n",
    "### Data: 30/10/2019 <span style='font-size:100px;'>&#9749;</span>"
   ]
  },
  {
   "cell_type": "code",
   "execution_count": null,
   "metadata": {},
   "outputs": [],
   "source": []
  },
  {
   "cell_type": "markdown",
   "metadata": {
    "slideshow": {
     "slide_type": "slide"
    }
   },
   "source": [
    "## 1. Strings\n",
    "\n",
    "### 1.1 Criando uma string\n",
    "\n",
    "Para criar uma string basta usas aspas simples ou aspas duplas.\n",
    "\n",
    "Não misture as duas aspas!!!"
   ]
  },
  {
   "cell_type": "code",
   "execution_count": 11,
   "metadata": {
    "slideshow": {
     "slide_type": "subslide"
    }
   },
   "outputs": [
    {
     "name": "stdout",
     "output_type": "stream",
     "text": [
      "10\n"
     ]
    },
    {
     "data": {
      "text/plain": [
       "str"
      ]
     },
     "execution_count": 11,
     "metadata": {},
     "output_type": "execute_result"
    }
   ],
   "source": [
    "string = input()\n",
    "type(string)"
   ]
  },
  {
   "cell_type": "code",
   "execution_count": 3,
   "metadata": {
    "slideshow": {
     "slide_type": "fragment"
    }
   },
   "outputs": [
    {
     "ename": "SyntaxError",
     "evalue": "EOL while scanning string literal (<ipython-input-3-1bcee016d8b5>, line 1)",
     "output_type": "error",
     "traceback": [
      "\u001b[1;36m  File \u001b[1;32m\"<ipython-input-3-1bcee016d8b5>\"\u001b[1;36m, line \u001b[1;32m1\u001b[0m\n\u001b[1;33m    str4 = 'isso não funciona\"\u001b[0m\n\u001b[1;37m                              ^\u001b[0m\n\u001b[1;31mSyntaxError\u001b[0m\u001b[1;31m:\u001b[0m EOL while scanning string literal\n"
     ]
    }
   ],
   "source": [
    "str4 = 'isso não funciona\""
   ]
  },
  {
   "cell_type": "markdown",
   "metadata": {
    "slideshow": {
     "slide_type": "slide"
    }
   },
   "source": [
    "### 1.2 Imprimindo uma string\n",
    "\n",
    "Para imprimir uma string devemos usar a função **print()**"
   ]
  },
  {
   "cell_type": "code",
   "execution_count": 17,
   "metadata": {
    "slideshow": {
     "slide_type": "fragment"
    }
   },
   "outputs": [
    {
     "name": "stdout",
     "output_type": "stream",
     "text": [
      "Uma frase qualquer\n",
      "Uma frase mais um numero: 10\n"
     ]
    }
   ],
   "source": [
    "str3 = \"Uma frase qualquer\"\n",
    "print(str3)\n",
    "print(\"Uma frase mais um numero:\", 10)"
   ]
  },
  {
   "cell_type": "code",
   "execution_count": 7,
   "metadata": {
    "slideshow": {
     "slide_type": "fragment"
    }
   },
   "outputs": [
    {
     "name": "stdout",
     "output_type": "stream",
     "text": [
      "Olá, eu sou Goku!\n"
     ]
    }
   ],
   "source": [
    "# imprimindo uma string diretamente\n",
    "print(\"Olá, eu sou Goku!\")"
   ]
  },
  {
   "cell_type": "markdown",
   "metadata": {
    "slideshow": {
     "slide_type": "slide"
    }
   },
   "source": [
    "### 1.3 Caracteres especiais\n",
    "\n",
    "O caractere **\\\\**  dentro de uma string indica um caracter especial.\n",
    "Por exemplo, **\\n** é utilizado para saltar linhas e **\\\\t** para dar um espaço de tabulação"
   ]
  },
  {
   "cell_type": "code",
   "execution_count": 26,
   "metadata": {
    "slideshow": {
     "slide_type": "fragment"
    }
   },
   "outputs": [
    {
     "name": "stdout",
     "output_type": "stream",
     "text": [
      "Primeira Linha \tSegunda Linha\n",
      "Primeira Linha \t\tSegunda Linha\n",
      "Primeira Linha \\          Segunda Linha\n"
     ]
    }
   ],
   "source": [
    "print(\"Primeira Linha \\tSegunda Linha\")\n",
    "print(\"Primeira Linha \\t\\tSegunda Linha\")\n",
    "print(\"Primeira Linha \\\\          Segunda Linha\")"
   ]
  },
  {
   "cell_type": "code",
   "execution_count": 10,
   "metadata": {
    "slideshow": {
     "slide_type": "fragment"
    }
   },
   "outputs": [
    {
     "name": "stdout",
     "output_type": "stream",
     "text": [
      "1\t2\n"
     ]
    }
   ],
   "source": [
    "# Usando o \\t\n",
    "print(\"1\\t2\")"
   ]
  },
  {
   "cell_type": "markdown",
   "metadata": {
    "slideshow": {
     "slide_type": "slide"
    }
   },
   "source": [
    "### 1.4 Indexação em strings\n",
    "\n",
    "*Strings* são sequências de caracteres, portanto podemos acessar partes da *string* através de índices.\n",
    "\n",
    "Para isso devemos ter duas coisas em mente\n",
    "\n",
    "1. Usamos colchetes para acessar o índice de determinada *string* \n",
    "2. A primeira letra se encontra no índice [**0**]()"
   ]
  },
  {
   "cell_type": "markdown",
   "metadata": {
    "slideshow": {
     "slide_type": "subslide"
    }
   },
   "source": [
    "Considere a *string* a seguir\n",
    "\n",
    "|C|t|r|l|+|P|l|a|y|\n",
    "|-|-|-|-|-|-|-|-|-|\n",
    "|0|1|2|3|4|5|6|7|8|"
   ]
  },
  {
   "cell_type": "code",
   "execution_count": 11,
   "metadata": {
    "slideshow": {
     "slide_type": "fragment"
    }
   },
   "outputs": [
    {
     "name": "stdout",
     "output_type": "stream",
     "text": [
      "C\n",
      "t\n",
      "a\n"
     ]
    }
   ],
   "source": [
    "# Acessando uma letra da string\n",
    "frase1 = 'Ctrl+Play'\n",
    "print(frase1[0])\n",
    "print(frase1[1])\n",
    "print(frase1[7])  "
   ]
  },
  {
   "cell_type": "code",
   "execution_count": 13,
   "metadata": {
    "slideshow": {
     "slide_type": "subslide"
    }
   },
   "outputs": [
    {
     "name": "stdout",
     "output_type": "stream",
     "text": [
      "a\n",
      "c\n",
      "i\n"
     ]
    }
   ],
   "source": [
    "# Acessando índices negativos\n",
    "print(frase1[-1])\n",
    "print(frase1[-2])\n",
    "print(frase1[-3])"
   ]
  },
  {
   "cell_type": "markdown",
   "metadata": {
    "slideshow": {
     "slide_type": "slide"
    }
   },
   "source": [
    "### 1.4.3 Entendendo índices negativos\n",
    "\n",
    "Para ficar fácil de visualizar o que significa os índices negativos o melhor é olhar para a *string* da mesma forma como fizemos anteriormente\n",
    "\n",
    "|C|t|r|l|+|P|l|a|y|\n",
    "|-|-|-|-|-|-|-|-|-|\n",
    "|0|1|2|3|4|5|6|7|8|\n",
    "|-9|-8|-7|-6|-5|-4|-3|-2|-1|\n",
    "\n",
    "Pense em passos. Ao andar para direita você estará indo no caminho positivo, dando um passo você chegará na segunda letra que tem índice 1, a letra ***t***. Com dois passos a partir do início você chegará na letra ***r***\n",
    "\n",
    "Dando passos negativos você estaria indo na posição contrária. Um passo negativo faz você ir até o final da *string*. Dois passos negativos fariam você ir até a penúltima letra da *string*."
   ]
  },
  {
   "cell_type": "code",
   "execution_count": 51,
   "metadata": {},
   "outputs": [
    {
     "name": "stdout",
     "output_type": "stream",
     "text": [
      "alP+\n"
     ]
    }
   ],
   "source": [
    "string = \"Ctrl+Play\"\n",
    "\n",
    "print(string[-2:3:-1])"
   ]
  },
  {
   "cell_type": "markdown",
   "metadata": {
    "slideshow": {
     "slide_type": "slide"
    }
   },
   "source": [
    "### 1.4.2 Fatiamento de strings\n",
    "\n",
    "Em *Python* é possível \"fatiar\" uma string em determinados pontos dela. Para isso utilizamos dentro dos colchetes um segundo número.\n",
    "\n",
    "O primeiro número indica onde a nossa fatia começa e o segundo onde ela termina."
   ]
  },
  {
   "cell_type": "markdown",
   "metadata": {
    "slideshow": {
     "slide_type": "fragment"
    }
   },
   "source": [
    "## IMPORTANTE!!!\n",
    "\n",
    "O caractere do índice indicado pelo primeiro número é incluído na *string* já o do segundo não. Veja o exemplo a seguir"
   ]
  },
  {
   "cell_type": "code",
   "execution_count": 39,
   "metadata": {
    "slideshow": {
     "slide_type": "subslide"
    }
   },
   "outputs": [
    {
     "name": "stdout",
     "output_type": "stream",
     "text": [
      "Homem\n",
      "-Aranha\n"
     ]
    }
   ],
   "source": [
    "string = \"Homem-Aranha\"\n",
    "print(string[:5])\n",
    "print(string[5:200])"
   ]
  },
  {
   "cell_type": "code",
   "execution_count": 5,
   "metadata": {
    "slideshow": {
     "slide_type": "fragment"
    }
   },
   "outputs": [
    {
     "name": "stdout",
     "output_type": "stream",
     "text": [
      "Homem\n",
      "Aranha\n",
      "Homem-Aranha\n"
     ]
    }
   ],
   "source": [
    "# Podemos omitir o número inicial para indicar que queremos começar do primeiro caractere \n",
    "# ou omitir o número final para indicar que queremos terminar no último caractere\n",
    "print(minha_string[:5])\n",
    "print(minha_string[6:])\n",
    " \n",
    "# É possível também omitir os dois índices, nesse caso iremos imprimir a string inteira\n",
    "print(minha_string[:])"
   ]
  },
  {
   "cell_type": "markdown",
   "metadata": {
    "slideshow": {
     "slide_type": "slide"
    }
   },
   "source": [
    "### 1.4.2 - Adicionando mais um elemento no fatiamento\n",
    "\n",
    "É possível adicionar um terceiro fator no fatimento das *strings*. Este fator indica o \"passo\" ou como devemos \"andar\" nessa *string*"
   ]
  },
  {
   "cell_type": "code",
   "execution_count": 46,
   "metadata": {
    "slideshow": {
     "slide_type": "fragment"
    }
   },
   "outputs": [
    {
     "name": "stdout",
     "output_type": "stream",
     "text": [
      "02468\n",
      "oerM\n"
     ]
    }
   ],
   "source": [
    "# Fatiando com um passo\n",
    "mystr = \"0123456789\"\n",
    "mystr2= \"Marcelo\"\n",
    "print(mystr[::2])\n",
    "print(mystr2[::)"
   ]
  },
  {
   "cell_type": "code",
   "execution_count": 7,
   "metadata": {
    "slideshow": {
     "slide_type": "fragment"
    }
   },
   "outputs": [
    {
     "name": "stdout",
     "output_type": "stream",
     "text": [
      "Pocmmneg\n"
     ]
    }
   ],
   "source": [
    "# podemos ignorar os números também se quisermos \n",
    "# considerar o início ou final da string\n",
    "print(mystr[::2])"
   ]
  },
  {
   "cell_type": "markdown",
   "metadata": {
    "slideshow": {
     "slide_type": "slide"
    }
   },
   "source": [
    "### Dúvida\n",
    "\n",
    "O que aconteceria no nosso fatiamento se utilizássemos um \"passo\" negativo?"
   ]
  },
  {
   "cell_type": "code",
   "execution_count": 74,
   "metadata": {
    "slideshow": {
     "slide_type": "fragment"
    }
   },
   "outputs": [
    {
     "name": "stdout",
     "output_type": "stream",
     "text": [
      "14\n",
      "reklawykS ekuL\n"
     ]
    }
   ],
   "source": [
    "# Utilizando um passo negativo\n",
    "jedi = \"Luke Skywalker\"\n",
    "print(len(jedi))\n",
    "print(jedi[::-1])"
   ]
  },
  {
   "cell_type": "markdown",
   "metadata": {},
   "source": [
    "## 2 Operações com strings\n",
    "\n",
    "A primeira coisa importante a se notar é que as *strings* são imutáveis, ou seja, elas não podem ser modificadas\n",
    "Veja o exemplo abaixo"
   ]
  },
  {
   "cell_type": "code",
   "execution_count": 82,
   "metadata": {},
   "outputs": [
    {
     "name": "stdout",
     "output_type": "stream",
     "text": [
      "2511289696136\n",
      "['a', 'b', 'e']\n",
      "2511289696136\n"
     ]
    }
   ],
   "source": [
    "# Tentando alterar uma string\n",
    "lista1 = ['a', 'b', 'c']\n",
    "print(id(lista1))\n",
    "lista1[2] = 'e'\n",
    "print(lista1)\n",
    "print(id(lista1))"
   ]
  },
  {
   "cell_type": "markdown",
   "metadata": {
    "slideshow": {
     "slide_type": "slide"
    }
   },
   "source": [
    "## 3 Funções em strings\n",
    "\n",
    "### 3.1 A função len()"
   ]
  },
  {
   "cell_type": "code",
   "execution_count": 59,
   "metadata": {
    "slideshow": {
     "slide_type": "fragment"
    }
   },
   "outputs": [
    {
     "name": "stdout",
     "output_type": "stream",
     "text": [
      "22\n",
      "26\n",
      "\ta       \n",
      "        a      \n",
      "8\n",
      "9\n"
     ]
    }
   ],
   "source": [
    "# Retorna o tamanho da string\n",
    "str1 = \"\\ta       \"\n",
    "str2 = \"        a      \"\n",
    "print(len(\"Henrique Araujo Morgan\"))\n",
    "print(len(\"HenriqueCesarSilvaCarvalho\"))\n",
    "print(str1)\n",
    "print(str2)\n",
    "print(len(str1.lstrip()))\n",
    "print(len(str2.rstrip()))"
   ]
  },
  {
   "cell_type": "markdown",
   "metadata": {
    "slideshow": {
     "slide_type": "subslide"
    }
   },
   "source": [
    "### 3.2 A função str()"
   ]
  },
  {
   "cell_type": "code",
   "execution_count": 68,
   "metadata": {
    "slideshow": {
     "slide_type": "fragment"
    }
   },
   "outputs": [
    {
     "name": "stdout",
     "output_type": "stream",
     "text": [
      "5\n",
      "A saida multiplicada por 5 é 25\n"
     ]
    },
    {
     "data": {
      "text/plain": [
       "2.5"
      ]
     },
     "execution_count": 68,
     "metadata": {},
     "output_type": "execute_result"
    }
   ],
   "source": [
    "entrada = input()\n",
    "int_entrada = int(entrada)\n",
    "\n",
    "int_entrada = int_entrada*5\n",
    "print(\"A saida multiplicada por 5 é \"+ str(int_entrada))"
   ]
  },
  {
   "cell_type": "markdown",
   "metadata": {
    "slideshow": {
     "slide_type": "slide"
    }
   },
   "source": [
    "## 3.3 Métodos de strings"
   ]
  },
  {
   "cell_type": "markdown",
   "metadata": {
    "slideshow": {
     "slide_type": "subslide"
    }
   },
   "source": [
    "### 3.3.1 find()"
   ]
  },
  {
   "cell_type": "code",
   "execution_count": 114,
   "metadata": {
    "slideshow": {
     "slide_type": "fragment"
    }
   },
   "outputs": [
    {
     "name": "stdout",
     "output_type": "stream",
     "text": [
      "-1\n"
     ]
    }
   ],
   "source": [
    "string1 = \"m.guimaraes@ctrlplay@.com.br\"\n",
    "num_arroba = string1.find(\"!\")\n",
    "print(num_arroba) \n"
   ]
  },
  {
   "cell_type": "markdown",
   "metadata": {
    "slideshow": {
     "slide_type": "subslide"
    }
   },
   "source": [
    "### 3.3.2 count()"
   ]
  },
  {
   "cell_type": "code",
   "execution_count": 113,
   "metadata": {
    "slideshow": {
     "slide_type": "fragment"
    }
   },
   "outputs": [
    {
     "name": "stdout",
     "output_type": "stream",
     "text": [
      "0\n"
     ]
    }
   ],
   "source": [
    "string100 = \"O rato roeu a roupa do rei de roma\"\n",
    "print(string100.count(\"@\"))"
   ]
  },
  {
   "cell_type": "markdown",
   "metadata": {
    "slideshow": {
     "slide_type": "subslide"
    }
   },
   "source": [
    "### 3.3.3 upper()"
   ]
  },
  {
   "cell_type": "code",
   "execution_count": 121,
   "metadata": {
    "slideshow": {
     "slide_type": "fragment"
    }
   },
   "outputs": [
    {
     "data": {
      "text/plain": [
       "'String Mil Strings'"
      ]
     },
     "execution_count": 121,
     "metadata": {},
     "output_type": "execute_result"
    }
   ],
   "source": [
    "str123 = \"StrinG MIL strings\"\n",
    "str123.title()"
   ]
  },
  {
   "cell_type": "markdown",
   "metadata": {
    "slideshow": {
     "slide_type": "subslide"
    }
   },
   "source": [
    "### 3.3.4 lower()"
   ]
  },
  {
   "cell_type": "code",
   "execution_count": null,
   "metadata": {
    "slideshow": {
     "slide_type": "fragment"
    }
   },
   "outputs": [],
   "source": []
  },
  {
   "cell_type": "markdown",
   "metadata": {
    "slideshow": {
     "slide_type": "subslide"
    }
   },
   "source": [
    "### 3.3.5 split()"
   ]
  },
  {
   "cell_type": "code",
   "execution_count": 127,
   "metadata": {
    "slideshow": {
     "slide_type": "fragment"
    }
   },
   "outputs": [
    {
     "name": "stdout",
     "output_type": "stream",
     "text": [
      "['César', 'Silva', 'Carvalho']\n"
     ]
    }
   ],
   "source": [
    "titulo = \"Henrique César Silva Carvalho\"\n",
    "nomes = titulo.split()\n",
    "print(nomes[1:])"
   ]
  },
  {
   "cell_type": "markdown",
   "metadata": {
    "slideshow": {
     "slide_type": "slide"
    }
   },
   "source": [
    "## 4 Entrada de dados\n",
    "\n",
    "Vamos criar um programa que testa se uma palavra escrita por um usuário é um palíndromo.\n",
    "\n",
    "Um palíndromo é uma palavra, frase ou uma sequência qualquer que é exatamente igual quando lida normalmente e quando lida de trás pra frente."
   ]
  },
  {
   "cell_type": "code",
   "execution_count": null,
   "metadata": {
    "slideshow": {
     "slide_type": "subslide"
    }
   },
   "outputs": [],
   "source": [
    "# Primeiro passo: ler a entrada definida pelo usuário"
   ]
  }
 ],
 "metadata": {
  "celltoolbar": "Slideshow",
  "kernelspec": {
   "display_name": "Python 3",
   "language": "python",
   "name": "python3"
  },
  "language_info": {
   "codemirror_mode": {
    "name": "ipython",
    "version": 3
   },
   "file_extension": ".py",
   "mimetype": "text/x-python",
   "name": "python",
   "nbconvert_exporter": "python",
   "pygments_lexer": "ipython3",
   "version": "3.7.3"
  },
  "latex_envs": {
   "LaTeX_envs_menu_present": true,
   "autoclose": false,
   "autocomplete": true,
   "bibliofile": "biblio.bib",
   "cite_by": "apalike",
   "current_citInitial": 1,
   "eqLabelWithNumbers": true,
   "eqNumInitial": 1,
   "hotkeys": {
    "equation": "Ctrl-E",
    "itemize": "Ctrl-I"
   },
   "labels_anchors": false,
   "latex_user_defs": false,
   "report_style_numbering": false,
   "user_envs_cfg": false
  }
 },
 "nbformat": 4,
 "nbformat_minor": 2
}
