{
 "cells": [
  {
   "cell_type": "markdown",
   "metadata": {},
   "source": [
    "# Material de apoio - Strings\n",
    "\n",
    "Este material visa compilar a maioria das funções em strings com códigos de exemplo para que seja mais fácil de encontrar o que você precisa. "
   ]
  },
  {
   "cell_type": "markdown",
   "metadata": {},
   "source": [
    "# Funções Built-In  para *strings*\n",
    "\n",
    "Funções Built-in são funções do interpretador *python* que estão sempre disponíveis. Nem todas funcionam para *strings* portanto existem mais funções *built-in* do que mostrado aqui\n",
    "\n",
    "\n",
    "Funções\n",
    "\n",
    "1. [len()](#len())\n",
    "2. [ascii()](#ascii())\n",
    "3. bool()\n",
    "4. bytearray()\n",
    "5. bytes()\n",
    "6. ord()\n",
    "7. enumerate()\n",
    "8. float()\n",
    "9. hash()\n",
    "10. id()\n",
    "11. int()\n",
    "12. map()\n",
    "13. print()\n",
    "14. slice()\n",
    "15. type()"
   ]
  },
  {
   "cell_type": "markdown",
   "metadata": {},
   "source": [
    "## <a id='len()'>len()</a>\n",
    "\n",
    "Serve para determinar o tamanho de uma sequência, no caso específico de *strings* ela irá informar o número de caracteres na *string*, incluindo números, pontuação e espaços em branco"
   ]
  },
  {
   "cell_type": "code",
   "execution_count": 49,
   "metadata": {},
   "outputs": [
    {
     "name": "stdout",
     "output_type": "stream",
     "text": [
      "21\n"
     ]
    }
   ],
   "source": [
    "# função len()\n",
    "curso = \"Ctrl+Young - Módulo 1\"\n",
    "print(len(curso))"
   ]
  },
  {
   "cell_type": "markdown",
   "metadata": {},
   "source": [
    "## <a id='ascii()'>ascii()</a>\n",
    "\n",
    "Retorna a representação em *string* do objeto. Internamente ela chama a função **repr()** e antes de retornar a função ela pula os caracteres não *ascii* usando \\x, \\u ou \\U"
   ]
  },
  {
   "cell_type": "code",
   "execution_count": 50,
   "metadata": {},
   "outputs": [
    {
     "name": "stdout",
     "output_type": "stream",
     "text": [
      "'uma string apenas com caracteres ascii'\n",
      "'Uma string com v\\xe1rios caracteres n\\xe3o ascii: Paci\\xeancia, \\xe0quela, n\\xe3o, v\\xe1rios'\n"
     ]
    }
   ],
   "source": [
    "# função ascii()\n",
    "\n",
    "s1 = \"uma string apenas com caracteres ascii\"\n",
    "print(ascii(s1))\n",
    "s2 = 'Uma string com vários caracteres não ascii: Paciência, àquela, não, vários'\n",
    "print(ascii(s2))"
   ]
  },
  {
   "cell_type": "markdown",
   "metadata": {},
   "source": [
    "## bool()\n",
    "\n",
    "Retorna um valor booleano para o objeto. No caso de *strings* ela retorna **False** somente se a *string* for vazia.\n",
    "\n",
    "**ATENÇÃO** - Espaços em branco contam como caractere, portanto definem uma *string* não vazia"
   ]
  },
  {
   "cell_type": "code",
   "execution_count": 7,
   "metadata": {},
   "outputs": [
    {
     "name": "stdout",
     "output_type": "stream",
     "text": [
      "False\n",
      "True\n",
      "True\n",
      "True\n",
      "True\n",
      "True\n",
      "True\n"
     ]
    }
   ],
   "source": [
    "# função bool()\n",
    "string_vazia = ''\n",
    "string_cheia = \"Qualquer coisa\"\n",
    "string_espacos = '   '\n",
    "string_none = \"None\"\n",
    "string_False = \"False\"\n",
    "string_True = \"True\"\n",
    "string_0 = \"0\"\n",
    "print(bool(string_vazia))\n",
    "print(bool(string_cheia))\n",
    "print(bool(string_espacos))\n",
    "print(bool(string_none))\n",
    "print(bool(string_False))\n",
    "print(bool(string_True))\n",
    "print(bool(string_0))"
   ]
  },
  {
   "cell_type": "markdown",
   "metadata": {},
   "source": [
    "## bytearray()\n",
    "\n",
    "Retorna uma sequência de *bytes*(números de 0 a 255), baseada na entrada. No caso de *strings* deve-se obrigatoriamente passar a codificação da mesma. Ou seja se ela está em modo *ascii*, *UTF-8* ou qualquer outro método de codificação.\n",
    "\n",
    "OBS: um método de codificação é usado para determinar quais caracteres existem. Por exemplo, no *ascii* não existem acentuação ou c cedilha."
   ]
  },
  {
   "cell_type": "code",
   "execution_count": 26,
   "metadata": {},
   "outputs": [
    {
     "name": "stdout",
     "output_type": "stream",
     "text": [
      "116\n",
      "101\n",
      "115\n",
      "116\n",
      "101\n"
     ]
    }
   ],
   "source": [
    "# função bytearray()\n",
    "\n",
    "s_para_bytes = \"teste\"\n",
    "barray = bytearray(s_para_bytes, \"UTF-8\")\n",
    "for byte in barray:\n",
    "    print(byte)\n",
    "    \n",
    "# Cada letra possui um bytecode específico. A letra \"t\" é igual a 116 e a letra é \"101\""
   ]
  },
  {
   "cell_type": "markdown",
   "metadata": {},
   "source": [
    "## bytes()\n",
    "\n",
    "Retorna um objeto *bytes* que é uma sequência de de inteiros com valores entre 0 e 255.\n",
    "A diferença entre **bytearray()** e **bytes()**  é que o primeiro é mutável e o segundo é imutável"
   ]
  },
  {
   "cell_type": "code",
   "execution_count": 30,
   "metadata": {},
   "outputs": [
    {
     "name": "stdout",
     "output_type": "stream",
     "text": [
      "116\n",
      "101\n",
      "115\n",
      "116\n",
      "101\n"
     ]
    }
   ],
   "source": [
    "# função bytes()\n",
    "\n",
    "str_bytes = \"teste\"\n",
    "str_bytes = bytes(str_bytes, \"UTF-8\")\n",
    "for by in str_bytes:\n",
    "    print(by)"
   ]
  },
  {
   "cell_type": "markdown",
   "metadata": {},
   "source": [
    "## ord()\n",
    "\n",
    "Recebe um único caractere e retorna o valor inteiro de seu código. É oposta a função **chr()**, que pega um valor inteiro e converte para um caractere"
   ]
  },
  {
   "cell_type": "code",
   "execution_count": 36,
   "metadata": {},
   "outputs": [
    {
     "name": "stdout",
     "output_type": "stream",
     "text": [
      "66\n",
      "98\n",
      "B\n",
      "b\n"
     ]
    }
   ],
   "source": [
    "# função ord()\n",
    "\n",
    "letra = \"B\"\n",
    "letra2 = \"b\"\n",
    "print(ord(letra)) # resultado é 66\n",
    "print(ord(letra2)) # resultado é 98\n",
    "print(chr(66))\n",
    "print(chr(98))"
   ]
  },
  {
   "cell_type": "markdown",
   "metadata": {},
   "source": [
    "## enumarate(seq, indice=0)\n",
    "\n",
    "Recebe uma sequência e retorna uma sequência de tuplas para cada elemento da sequência original. Cada tupla é numerada de acordo com a posição do elemento na sequência. Se o índice não for indicado a numeração começa do 0"
   ]
  },
  {
   "cell_type": "code",
   "execution_count": 42,
   "metadata": {},
   "outputs": [
    {
     "name": "stdout",
     "output_type": "stream",
     "text": [
      "<enumerate object at 0x000001E121E99828>\n",
      "(0, 'E')\n",
      "(1, 'x')\n",
      "(2, 'i')\n",
      "(3, 's')\n",
      "(4, 't')\n",
      "(5, 'e')\n",
      "(6, 'm')\n",
      "(7, ' ')\n",
      "(8, 'm')\n",
      "(9, 'u')\n",
      "(10, 'i')\n",
      "(11, 't')\n",
      "(12, 'a')\n",
      "(13, 's')\n",
      "(14, ' ')\n",
      "(15, 'f')\n",
      "(16, 'u')\n",
      "(17, 'n')\n",
      "(18, 'ç')\n",
      "(19, 'õ')\n",
      "(20, 'e')\n",
      "(21, 's')\n",
      "\n",
      "Enumarate começando do 10\n",
      "\n",
      "(10, 'E')\n",
      "(11, 'x')\n",
      "(12, 'i')\n",
      "(13, 's')\n",
      "(14, 't')\n",
      "(15, 'e')\n",
      "(16, 'm')\n",
      "(17, ' ')\n",
      "(18, 'm')\n",
      "(19, 'u')\n",
      "(20, 'i')\n",
      "(21, 't')\n",
      "(22, 'a')\n",
      "(23, 's')\n",
      "(24, ' ')\n",
      "(25, 'f')\n",
      "(26, 'u')\n",
      "(27, 'n')\n",
      "(28, 'ç')\n",
      "(29, 'õ')\n",
      "(30, 'e')\n",
      "(31, 's')\n"
     ]
    }
   ],
   "source": [
    "# função enumarate()\n",
    "\n",
    "frase = \"Existem muitas funções\"\n",
    "enum_frase = enumerate(frase)\n",
    "enum_frase2 = enumerate(frase, 10)\n",
    "print(enum_frase)\n",
    "for elem in enum_frase:\n",
    "    print(elem)\n",
    "\n",
    "print(\"\\nEnumarate começando do 10\\n\")\n",
    "for elem in enum_frase2:\n",
    "    print(elem)"
   ]
  },
  {
   "cell_type": "markdown",
   "metadata": {},
   "source": [
    "## float()\n",
    "\n",
    "Retorna um número do tipo ponto flutuante a partir de uma *string*"
   ]
  },
  {
   "cell_type": "code",
   "execution_count": 44,
   "metadata": {},
   "outputs": [
    {
     "name": "stdout",
     "output_type": "stream",
     "text": [
      "4.532\n",
      "36.532\n"
     ]
    }
   ],
   "source": [
    "str_float = \"4.532\"\n",
    "num_float = float(str_float)\n",
    "print(num_float)\n",
    "print(num_float + 32)"
   ]
  },
  {
   "cell_type": "markdown",
   "metadata": {},
   "source": [
    "## hash()\n",
    "\n",
    "Retorna um hash à partir da *string*. Um hash é uma função que produz um valor único (idealmente) para cada entrada. É muito utilizado para questôes de segurança. Uma pequena alteração no valor inserido leva a uma alteração enorme na saída."
   ]
  },
  {
   "cell_type": "code",
   "execution_count": 46,
   "metadata": {},
   "outputs": [
    {
     "name": "stdout",
     "output_type": "stream",
     "text": [
      "-4173131307510708419\n",
      "6829650683376518794\n",
      "-7250782231595587293\n",
      "-4173131307510708419\n"
     ]
    }
   ],
   "source": [
    "# função hash()\n",
    "\n",
    "str1 = \"Teste\" \n",
    "str2 = \"teste\" # Leve alteração trocando maiúscula por minúscula\n",
    "str3 = \"Teste \" # Outra pequena alteração adicionando um espaço ao final da string\n",
    "str4 = \"Teste\" # String exatamente igual a str1 -> saída será igual à str1\n",
    "print(hash(str1))\n",
    "print(hash(str2))\n",
    "print(hash(str3))\n",
    "print(hash(str4))"
   ]
  },
  {
   "cell_type": "markdown",
   "metadata": {},
   "source": [
    "## id()\n",
    "\n",
    "Retorna uma identificação do objeto (nesse caso uma *string*). A identificação do objeto é única em todo o programa. Duas variáveis terão o mesmo **id()** apenas se elas apontam para o mesmo objeto"
   ]
  },
  {
   "cell_type": "code",
   "execution_count": 47,
   "metadata": {},
   "outputs": [
    {
     "name": "stdout",
     "output_type": "stream",
     "text": [
      "2066447600176\n",
      "2066447420592\n",
      "2066447600176\n",
      "2066447420400\n"
     ]
    }
   ],
   "source": [
    "# função id()\n",
    "\n",
    "str1 = \"minha string!\"\n",
    "str2 = \"outra string!\"\n",
    "str3 = str1 # apontam para o mesmo objeto\n",
    "str4 = \"minha string!\" # string igual a str1 porém é outro objeto\n",
    "print(id(str1))\n",
    "print(id(str2))\n",
    "print(id(str3)) # mesmo id() de str1\n",
    "print(id(str4)) # id() diferente de str1 mesmo com strings iguais"
   ]
  },
  {
   "cell_type": "markdown",
   "metadata": {},
   "source": [
    "## int()\n",
    "\n",
    "Muito semelhante à função float(), porém retorna um número inteiro ao invés de um número ponto flutuante."
   ]
  },
  {
   "cell_type": "code",
   "execution_count": 48,
   "metadata": {},
   "outputs": [
    {
     "name": "stdout",
     "output_type": "stream",
     "text": [
      "12352\n",
      "1\n"
     ]
    }
   ],
   "source": [
    "# função int()\n",
    "\n",
    "string_num = \"12352\"\n",
    "num = int(string_num)\n",
    "print(num)\n",
    "print(num-12351)"
   ]
  },
  {
   "cell_type": "markdown",
   "metadata": {},
   "source": [
    "## map()\n",
    "\n",
    "Aplica uma função em cada elemento da sequência. No caso de *strings* ele irá aplicar uma função para cada caractere da *string*"
   ]
  },
  {
   "cell_type": "code",
   "execution_count": 62,
   "metadata": {},
   "outputs": [
    {
     "name": "stdout",
     "output_type": "stream",
     "text": [
      "2\n",
      "4\n",
      "6\n",
      "8\n",
      "10\n"
     ]
    }
   ],
   "source": [
    "# função map()\n",
    "\n",
    "string = \"12345\"\n",
    "string_map = map(int, string)\n",
    "for elem in string_map:\n",
    "    print(elem*2)"
   ]
  },
  {
   "cell_type": "markdown",
   "metadata": {},
   "source": [
    "### Observação:\n",
    "\n",
    "Em python não é comum utilizar a função **map()** atualmente. Existem opções melhores como o *list comprehension* por exemplo. Isso não faz parte do curso e é um tópico um pouco mais avançado, mas irei adicionar aqui para fins didáticos."
   ]
  },
  {
   "cell_type": "code",
   "execution_count": 63,
   "metadata": {},
   "outputs": [
    {
     "name": "stdout",
     "output_type": "stream",
     "text": [
      "2\n",
      "4\n",
      "6\n",
      "8\n",
      "10\n"
     ]
    }
   ],
   "source": [
    "string = \"12345\"\n",
    "list_string_int = [int(x) for x in string]   # a operação à direita é chamada de list comprehension\n",
    "                                                 # Ela é uma lista pois possui os colchetes\n",
    "                                                 # Você pode ler como: aplique a função int() em x\n",
    "                                                 # para cada x na string\n",
    "                                                 # Onde x é cada elemento da string -> \"1\",\"2\",\"3\",\"4\" e \"5\"\n",
    "\n",
    "for elem in list_string_int:\n",
    "    print(elem*2)"
   ]
  },
  {
   "cell_type": "markdown",
   "metadata": {},
   "source": [
    "## print()\n",
    "\n",
    "Imprime na saída padrão o valor especificado"
   ]
  },
  {
   "cell_type": "code",
   "execution_count": 64,
   "metadata": {},
   "outputs": [
    {
     "name": "stdout",
     "output_type": "stream",
     "text": [
      "Uma string\n",
      "Outra string\n"
     ]
    }
   ],
   "source": [
    "print(\"Uma string\")\n",
    "val_string = \"Outra string\"\n",
    "print(val_string)"
   ]
  },
  {
   "cell_type": "markdown",
   "metadata": {},
   "source": [
    "## slice()\n",
    "\n",
    "Retorna um objeto *slice* que é uma lista de índices a serem aplicados em um objeto.\n",
    "A função slice recebe 3 parâmetros:\n",
    "\n",
    "**slice(início, fim, passo)**\n",
    "\n",
    "Produz um resultado igual a *string* [inicio:fim:passo]\n",
    "\n",
    "Desses o único obrigatório é **fim**"
   ]
  },
  {
   "cell_type": "code",
   "execution_count": 69,
   "metadata": {},
   "outputs": [
    {
     "name": "stdout",
     "output_type": "stream",
     "text": [
      "tlP\n",
      "tlP\n",
      "Cr+ly\n",
      "Cr+ly\n"
     ]
    }
   ],
   "source": [
    "# função slice()\n",
    "\n",
    "corte = slice(1,6,2) # objeto slice com índices 1, 3 e 5\n",
    "corte2 = slice(None, None, 2) # índices 0,2,4,6,8,10,12,...\n",
    "string = \"Ctrl+Play\"\n",
    "print(string[corte]) # uso do objeto slice dentro do índice da string. \n",
    "print(string[1:6:2])\n",
    "\n",
    "print(string[corte2])\n",
    "print(string[::2])\n",
    "# Com os índices 1, 3 e 5 ele irá imprimir os caracteres \"t\", \"l\" e \"P\""
   ]
  },
  {
   "cell_type": "markdown",
   "metadata": {},
   "source": [
    "## type()\n",
    "\n",
    "Retorna o tipo do objeto. No caso quando usado em *strings* ele irá retornar avisando que é um objeto da classe *str*, ou seja uma *string*"
   ]
  },
  {
   "cell_type": "code",
   "execution_count": 70,
   "metadata": {},
   "outputs": [
    {
     "name": "stdout",
     "output_type": "stream",
     "text": [
      "<class 'str'>\n",
      "<class 'int'>\n",
      "<class 'float'>\n"
     ]
    }
   ],
   "source": [
    "string = \"123a,b,c!@#\"\n",
    "inteiro = 12345\n",
    "ponto_flutuante = 123.45\n",
    "print(type(string))\n",
    "print(type(inteiro))\n",
    "print(type(ponto_flutuante))"
   ]
  },
  {
   "cell_type": "markdown",
   "metadata": {},
   "source": []
  },
  {
   "cell_type": "code",
   "execution_count": null,
   "metadata": {},
   "outputs": [],
   "source": []
  },
  {
   "cell_type": "markdown",
   "metadata": {},
   "source": []
  },
  {
   "cell_type": "markdown",
   "metadata": {},
   "source": [
    "# <a id=\"indice\">Métodos de Strings<a>\n",
    "\n",
    "1. [capitalize()](#capitalize())\n",
    "2. [center()](#center())\n",
    "3. [casefold()](#casefold())\n",
    "4. [count()](#count())\n",
    "5. [endswith()](#endswith())\n",
    "6. [expandtabs()](#expandtabs())\n",
    "7. [enconde()](#enconde())\n",
    "8. [find()](#find())\n",
    "9. [format()](#format())\n",
    "10. [index()](#index())\n",
    "11. [isalnum()](#isalnum())\n",
    "12. [isalalpha()](#isalalpha())\n",
    "13. [isdecimal()](#isdecimal())\n",
    "14. [isdigit()](#isdigit())\n",
    "15. [isidentifier()](#isidentifier())\n",
    "16. [islower()](#islower())\n",
    "17. [isnumeric()](#isnumeric())\n",
    "18. [isprintable()](#isprintable())\n",
    "19. [isspace()](#isspace())\n",
    "20. [istitle()](#istitle())\n",
    "21. [isupper()](#isupper())\n",
    "22. [join()](#join())\n",
    "23. [ljust()](#ljust())\n",
    "24. [rjunt()](#rjunt())\n",
    "25. [lower()](#lower())\n",
    "26. [upper()](#upper())\n",
    "27. [swapcase()](#swapcase())\n",
    "29. [lstrip()](#lstrip())\n",
    "30. [rstrip()](#rstrip())\n",
    "31. [partition()](#partition())\n",
    "32. [maketrans()](#maketrans())\n",
    "33. [rpartition()](#rpartition())\n",
    "34. [translate()](#translate())\n",
    "35. [replace()](#replace())\n",
    "36. [rfind()](#rfind())\n",
    "37. [rindex()](#rindex())\n",
    "38. [split()](#split())\n",
    "39. [rsplit()](#rsplit())\n",
    "40. [splitlines()](#splitlines())\n",
    "41. [startswith()](#startswith())\n",
    "42. [title()](#title())\n",
    "43. [zfill()](#zfill())\n",
    "44. [format_map()](#format_map())"
   ]
  },
  {
   "cell_type": "markdown",
   "metadata": {},
   "source": [
    "## 1. <a id=\"capitalize()\">capitalize()<a>\n",
    "    \n",
    "Retorna a string com a primeira letra em maiúsculo e todas as outras e minúsculo.\n",
    "\n",
    "[Voltar](#indice)"
   ]
  },
  {
   "cell_type": "code",
   "execution_count": 3,
   "metadata": {},
   "outputs": [
    {
     "name": "stdout",
     "output_type": "stream",
     "text": [
      "Uma frase interessante\n"
     ]
    }
   ],
   "source": [
    "string = \"uma frAse Interessante\"\n",
    "print(string.capitalize())"
   ]
  },
  {
   "cell_type": "markdown",
   "metadata": {},
   "source": [
    "## 2. <a id=\"center()\">center()<a>"
   ]
  },
  {
   "cell_type": "markdown",
   "metadata": {},
   "source": [
    "O método [center()]() retorna uma string que é preenchida com o caractere informado.\n",
    "\n",
    "Sintaxe: <br>\n",
    "<code>string.center(largura, caractere_de_preenchimento=\" \")</code>\n",
    "\n",
    "[Voltar](#indice)"
   ]
  },
  {
   "cell_type": "code",
   "execution_count": 12,
   "metadata": {},
   "outputs": [
    {
     "name": "stdout",
     "output_type": "stream",
     "text": [
      "    Ir ao Centro    \n",
      "0000Ir ao Centro0000\n",
      "----Ir ao Centro----\n"
     ]
    }
   ],
   "source": [
    "s_center = \"Ir ao Centro\"\n",
    "print(s_center.center(20))\n",
    "print(s_center.center(20, '0'))\n",
    "print(s_center.center(20, '-'))"
   ]
  },
  {
   "cell_type": "markdown",
   "metadata": {},
   "source": [
    "## 3. <a id=\"casefold()\">casefold()<a>"
   ]
  },
  {
   "cell_type": "markdown",
   "metadata": {},
   "source": [
    "Método mais agressivo do que lower(). Converte valores para comparação em strings sem que sejam considerados maiúsculas, minúsculas e outras formas de escrita. \n",
    "\n",
    "Exemplo: a letra ß do alemão é equivalente a ss. Ela não seria convertido usando apenas lower() mas é convertida usando casefold()\n",
    "\n",
    "[Voltar](#indice)\n",
    "\n"
   ]
  },
  {
   "cell_type": "code",
   "execution_count": 61,
   "metadata": {},
   "outputs": [
    {
     "name": "stdout",
     "output_type": "stream",
     "text": [
      "False\n",
      "False\n",
      "False\n"
     ]
    }
   ],
   "source": [
    "letra = \"casa\" \n",
    "igual = \"caça\"\n",
    "print(letra==igual)\n",
    "print(letra.lower()==igual)\n",
    "print(letra.casefold()==igual)"
   ]
  },
  {
   "cell_type": "markdown",
   "metadata": {},
   "source": [
    "## 4. <a id=\"count()\">count()</a>\n",
    "\n",
    "Retorna o número de ocorrências de uma substring em uma string. <br>\n",
    "Possui dois parâmetros opcionais, *start* e *end* que delimitam o espaço de busca na string.\n",
    "\n",
    "<code>string.count(substring, start= ..., end= ...)</code>\n",
    "    \n",
    "[Voltar](#indice)"
   ]
  },
  {
   "cell_type": "code",
   "execution_count": 16,
   "metadata": {},
   "outputs": [
    {
     "name": "stdout",
     "output_type": "stream",
     "text": [
      "2\n"
     ]
    }
   ],
   "source": [
    "str_count = \"String original com várias palavras\"\n",
    "print(str_count.count(\"al\"))"
   ]
  },
  {
   "cell_type": "markdown",
   "metadata": {},
   "source": [
    "## 5. <a id=\"endswith()\">endswith()</a>\n",
    "\n",
    "Retorna *True* se a string termina com o sufixo especificado. Se não retorna *False*. <br>\n",
    "Possui dois parâmetros opcionais, start e end que delimitam o espaço de busca na string.\n",
    "\n",
    "<code>str.endswith(sufixo, começo= ..., fim=...)</code>\n",
    "\n",
    "[Voltar](#indice)"
   ]
  },
  {
   "cell_type": "code",
   "execution_count": 22,
   "metadata": {},
   "outputs": [
    {
     "name": "stdout",
     "output_type": "stream",
     "text": [
      "True\n",
      "False\n"
     ]
    }
   ],
   "source": [
    "str_end = \"termina em\"\n",
    "print(str_end.endswith(\"em\"))\n",
    "print(str_end.endswith(\"em\", 0, 8))"
   ]
  },
  {
   "cell_type": "markdown",
   "metadata": {},
   "source": [
    "## 6. <a id=\"expandtabs()\">expandtabs()</a>\n",
    "\n",
    "Retorna uma cópia da string em que as tabulações \"\\t\" são substituídas por espaço em branco até o próximo múltiplo do parâmetro informado.\n",
    "\n",
    "<code>expandtabs(tabsize)</code>\n",
    "\n",
    "[Voltar](#indice)"
   ]
  },
  {
   "cell_type": "code",
   "execution_count": 25,
   "metadata": {},
   "outputs": [
    {
     "name": "stdout",
     "output_type": "stream",
     "text": [
      "\tUma Strings\tFinal\n",
      "        Uma Strings     Final\n"
     ]
    }
   ],
   "source": [
    "string_expand = \"\\tUma Strings\\tFinal\"\n",
    "string_spaces = string_expand.expandtabs()\n",
    "print(string_expand)\n",
    "print(string_spaces)\n",
    "\n",
    "#para conseguir ver o efeito do código seleciona cada caractere individualmente no resultado final"
   ]
  },
  {
   "cell_type": "markdown",
   "metadata": {},
   "source": [
    "## 7. <a id=\"encode()\">encode()</a>\n",
    "\n",
    "Retorna uma versão codificada da string. <br>\n",
    "\n",
    "Python guarda os caracteres em formato Unicode. Para melhor eficiência do código, esse padrão deve ser transformado em uma sequência de bits. Para isso, existem vários padrões de codificação, sendo os mais famosos o **ascii** e o **UTF-8**, em que este último é o utilizado por padrão em Python.\n",
    "\n",
    "<code>string.encode(encoding=\"UTF-8\", errors=\"strict\")</code>\n",
    "\n",
    "[Voltar](#indice)"
   ]
  },
  {
   "cell_type": "code",
   "execution_count": 31,
   "metadata": {},
   "outputs": [
    {
     "name": "stdout",
     "output_type": "stream",
     "text": [
      "Código!\n",
      "b'C\\xc3\\xb3digo!'\n"
     ]
    }
   ],
   "source": [
    "string_unicode = \"Código!\"\n",
    "print(string_unicode)\n",
    "\n",
    "string_utf8 = string_unicode.encode() #por padrão o método utiliza UTF-8\n",
    "print(string_utf8)\n"
   ]
  },
  {
   "cell_type": "markdown",
   "metadata": {},
   "source": [
    "## 8. <a id=\"find()\">find()</a>\n",
    "\n",
    "Retorna o índice da primeira ocorrência encontrada na *string*. Caso não seja encontrado o valor retornado é -1\n",
    "\n",
    "<code>str.find(substring, start=..., end=...)</code>\n",
    "\n",
    "[Voltar](#indice)"
   ]
  },
  {
   "cell_type": "code",
   "execution_count": 33,
   "metadata": {},
   "outputs": [
    {
     "name": "stdout",
     "output_type": "stream",
     "text": [
      "34\n"
     ]
    }
   ],
   "source": [
    "string_find = \"Podemos procurar praticamente qualquer coisa em uma string e retornar o seu índice\"\n",
    "print(string_find.find(\"quer\"))"
   ]
  },
  {
   "cell_type": "markdown",
   "metadata": {},
   "source": [
    "## 9. <a id=\"format()\"> format() </a>\n",
    "\n",
    "Formata a string para que a saída possua um visual mais agradável.\n",
    "\n",
    "[Voltar](#indice)\n",
    "\n",
    "Existem vários estilos de formatação para várias situações diferentes. Irei mostrar aqui apenas um tipo relacionado a números com casas depois da vírgula e com zeros na frente.\n",
    "\n",
    "<code>string.format(p0,p1,p2,....k0=v0, k1=v1,...)\n",
    "    onde p0, p1, p2 ... são parâmetros e k0, k1... são argumentos chave-valor</code>\n",
    "    \n",
    "    \n",
    "Exemplo: \"Meu nome é {0} e o número pi é igual a {1:5.2f}\".format(\"Johnny\", 3.141592)\n",
    "\n",
    "Aqui 0 é o primeiro argumento dentro dos parênteses, posição 0 e valor igual a \"Johnny\". Ele não recebe nenhuma formatação<br>\n",
    "\n",
    "Em {1:5.2f\"} o 1 antes dos dois pontos representa o argumento na posição 1, ou seja, 3.141592. A operação 5.2f faz várias coisas. Primeiro a letra \"f\" indica que estamos tratando um número ponto flutuante. O valor antes do ponto - 10 - diz que o tamanho total do número será de 10 caracteres. Já o 2 depois de dois pontos, indica que haverá dois pontos após a vírgula.\n",
    "\n",
    "Veja na prática"
   ]
  },
  {
   "cell_type": "code",
   "execution_count": 44,
   "metadata": {},
   "outputs": [
    {
     "name": "stdout",
     "output_type": "stream",
     "text": [
      "Meu nome é Johnny e o número pi é igual a       3.14\n"
     ]
    }
   ],
   "source": [
    "string_format = \"Meu nome é {0} e o número pi é igual a {1:10.2f}\"\n",
    "print(string_format.format(\"Johnny\", 3.141592))"
   ]
  },
  {
   "cell_type": "markdown",
   "metadata": {},
   "source": [
    "Para mostrar uma outra forma de passar os argumentos, iremos utilizar agora valores chave-valor. Vamos usar praticamente o mesmo código.\n",
    "\n",
    "A diferença no código a seguir é que temos um 0 antes do número 10, o que faz com que sejam colocados 0s à esquerda até que sejam preenchidas todas as posições.\n",
    "\n",
    "Outra coisa importante é que agora passamos os argumentos como chave-valor, não importando mais a posição."
   ]
  },
  {
   "cell_type": "code",
   "execution_count": 46,
   "metadata": {},
   "outputs": [
    {
     "name": "stdout",
     "output_type": "stream",
     "text": [
      "Meu nome é Johnny e o número pi é igual a 0000003.14\n"
     ]
    }
   ],
   "source": [
    "string_format = \"Meu nome é {nome} e o número pi é igual a {numero:010.2f}\"\n",
    "print(string_format.format(numero=3.141592, nome=\"Johnny\"))"
   ]
  },
  {
   "cell_type": "markdown",
   "metadata": {},
   "source": [
    "## f-strings\n",
    "\n",
    "Continuando falando sobre formatação, o python 3.6 surgiu com o conceito de *f-strings*. Isso permite uma facilidade bem maior ao fazer formatações, não dependendo mais do uso da função **format()**. A regibilidade ficou melhor e a produtividade também.\n",
    "\n",
    "\n",
    "Para usar *f-strings* basta adicionar a letra \"f\" antes das aspas da string.\n",
    "\n",
    "Veja abaixo usando o mesmo exemplo."
   ]
  },
  {
   "cell_type": "code",
   "execution_count": 48,
   "metadata": {},
   "outputs": [
    {
     "name": "stdout",
     "output_type": "stream",
     "text": [
      "Meu nome é Johnny e o número pi é igual a 0000003.14\n"
     ]
    }
   ],
   "source": [
    "nome = \"Johnny\"\n",
    "numero = 3.141592\n",
    "string_format = f\"Meu nome é {nome} e o número pi é igual a {numero:010.2f}\"\n",
    "print(string_format)"
   ]
  },
  {
   "cell_type": "markdown",
   "metadata": {},
   "source": [
    "## 10. <a id=\"index()\">index()</a>\n",
    "\n",
    "Retorna o índice de uma *substring* dentro da *string* caso seja encontrado. Se a *substring* não for encontrada o método gera uma exceção\n",
    "\n",
    "O método recebe o parâmetro ***substring*** que é uma *string* a ser encontrada na *string* original e mais dois parâmetros opcionais, ***start*** e ***end***, que delimitam o espaço de busca na *string*.\n",
    "\n",
    "<code> string.index(substring, start=..., end=...) </code>\n",
    "\n",
    "A única diferença desse método para o método **find()** é que **index()** gera uma exceção quando a *substring* não é encontrada e o método **find()** retorna o número **-1**\n",
    "\n",
    "[Voltar](#indice)"
   ]
  },
  {
   "cell_type": "code",
   "execution_count": 62,
   "metadata": {},
   "outputs": [
    {
     "name": "stdout",
     "output_type": "stream",
     "text": [
      "34\n"
     ]
    }
   ],
   "source": [
    "string_index = \"Podemos procurar praticamente qualquer coisa em uma string e retornar o seu índice\"\n",
    "print(string_index.index(\"quer\"))"
   ]
  },
  {
   "cell_type": "code",
   "execution_count": 64,
   "metadata": {},
   "outputs": [],
   "source": [
    "string_index_find = \"Vamos ver a diferença do método find() e index() quando a substring não é localizada\""
   ]
  },
  {
   "cell_type": "code",
   "execution_count": 65,
   "metadata": {},
   "outputs": [
    {
     "name": "stdout",
     "output_type": "stream",
     "text": [
      "-1\n"
     ]
    }
   ],
   "source": [
    "# find()\n",
    "\n",
    "print(string_index_find.find(\"NÃO EXISTO NA STRING ORIGINAL\"))"
   ]
  },
  {
   "cell_type": "code",
   "execution_count": 66,
   "metadata": {
    "scrolled": true
   },
   "outputs": [
    {
     "ename": "ValueError",
     "evalue": "substring not found",
     "output_type": "error",
     "traceback": [
      "\u001b[1;31m---------------------------------------------------------------------------\u001b[0m",
      "\u001b[1;31mValueError\u001b[0m                                Traceback (most recent call last)",
      "\u001b[1;32m<ipython-input-66-41baf881efa0>\u001b[0m in \u001b[0;36m<module>\u001b[1;34m\u001b[0m\n\u001b[0;32m      1\u001b[0m \u001b[1;31m# index()\u001b[0m\u001b[1;33m\u001b[0m\u001b[1;33m\u001b[0m\u001b[1;33m\u001b[0m\u001b[0m\n\u001b[0;32m      2\u001b[0m \u001b[1;33m\u001b[0m\u001b[0m\n\u001b[1;32m----> 3\u001b[1;33m \u001b[0mprint\u001b[0m\u001b[1;33m(\u001b[0m\u001b[0mstring_index_find\u001b[0m\u001b[1;33m.\u001b[0m\u001b[0mindex\u001b[0m\u001b[1;33m(\u001b[0m\u001b[1;34m\"NÃO EXISTO NA STRING ORIGINAL\"\u001b[0m\u001b[1;33m)\u001b[0m\u001b[1;33m)\u001b[0m\u001b[1;33m\u001b[0m\u001b[1;33m\u001b[0m\u001b[0m\n\u001b[0m",
      "\u001b[1;31mValueError\u001b[0m: substring not found"
     ]
    }
   ],
   "source": [
    "# index()\n",
    "\n",
    "print(string_index_find.index(\"NÃO EXISTO NA STRING ORIGINAL\"))"
   ]
  },
  {
   "cell_type": "code",
   "execution_count": null,
   "metadata": {},
   "outputs": [],
   "source": []
  },
  {
   "cell_type": "markdown",
   "metadata": {},
   "source": [
    "## 11. <a id=\"isalnum()\">isalnum()</a>\n",
    "\n",
    "Retorna ***True*** caso todos os caracteres na *string* sejam alfanuméricos (letras ou números). Caso contrário retornar ***False***\n",
    "\n",
    "<code>string.isalnum()</code>\n",
    "\n",
    "[Voltar](#indice)"
   ]
  },
  {
   "cell_type": "code",
   "execution_count": 75,
   "metadata": {},
   "outputs": [
    {
     "name": "stdout",
     "output_type": "stream",
     "text": [
      "True\n",
      "False\n",
      "True\n",
      "False\n"
     ]
    }
   ],
   "source": [
    "string_isalnum_1 = \"todossomosalfanuméricos1234567890\"\n",
    "string_isalnum_2 = \"Um espaço não é alfanumérico\"\n",
    "string_isalnum_3 = \"áéíóúàèìòùçãõñâêîôû\"\n",
    "string_isalnum_4 = \"Pontuação?Não!\"\n",
    "print(string_isalnum_1.isalnum())\n",
    "print(string_isalnum_2.isalnum())\n",
    "print(string_isalnum_3.isalnum())\n",
    "print(string_isalnum_4.isalnum())"
   ]
  },
  {
   "cell_type": "markdown",
   "metadata": {},
   "source": [
    "## 12. <a id=\"isalpha()\">isalpha()</a>\n",
    "\n",
    "Retorna ***True*** caso todos os caracteres na *string* sejam letras. Caso contrário retorna ***False***\n",
    "\n",
    "<code>string.isalpha()</code>\n",
    "\n",
    "[Voltar](#indice)"
   ]
  },
  {
   "cell_type": "code",
   "execution_count": 76,
   "metadata": {
    "scrolled": true
   },
   "outputs": [
    {
     "name": "stdout",
     "output_type": "stream",
     "text": [
      "True\n",
      "False\n",
      "False\n"
     ]
    }
   ],
   "source": [
    "string_letras = 'Aquitudosãoletras'\n",
    "string_com_espacos = 'Aqui temos espaços'\n",
    "string_com_numeros = \"Numero1\"\n",
    "print(string_letras.isalpha())\n",
    "print(string_com_espacos.isalpha())\n",
    "print(string_com_numeros.isalpha())"
   ]
  },
  {
   "cell_type": "markdown",
   "metadata": {},
   "source": [
    "## 13. <a id=\"isdecimal()\">isdecimal()</a>\n",
    "\n",
    "Retorna ***True*** caso todos os caracteres na *string* sejam decimais. Caso contrário retorna ***False***\n",
    "\n",
    "<code>string.isdecimal()</code>\n",
    "\n",
    "[Voltar](#indice)"
   ]
  }
 ],
 "metadata": {
  "kernelspec": {
   "display_name": "Python 3",
   "language": "python",
   "name": "python3"
  },
  "language_info": {
   "codemirror_mode": {
    "name": "ipython",
    "version": 3
   },
   "file_extension": ".py",
   "mimetype": "text/x-python",
   "name": "python",
   "nbconvert_exporter": "python",
   "pygments_lexer": "ipython3",
   "version": "3.7.3"
  },
  "latex_envs": {
   "LaTeX_envs_menu_present": true,
   "autoclose": false,
   "autocomplete": true,
   "bibliofile": "biblio.bib",
   "cite_by": "apalike",
   "current_citInitial": 1,
   "eqLabelWithNumbers": true,
   "eqNumInitial": 1,
   "hotkeys": {
    "equation": "Ctrl-E",
    "itemize": "Ctrl-I"
   },
   "labels_anchors": false,
   "latex_user_defs": false,
   "report_style_numbering": false,
   "user_envs_cfg": false
  }
 },
 "nbformat": 4,
 "nbformat_minor": 2
}
